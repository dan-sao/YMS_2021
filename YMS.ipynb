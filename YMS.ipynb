{
 "cells": [
  {
   "cell_type": "markdown",
   "metadata": {},
   "source": [
    "# music"
   ]
  },
  {
   "cell_type": "code",
   "execution_count": 2,
   "metadata": {},
   "outputs": [],
   "source": [
    "import pandas as pd"
   ]
  },
  {
   "cell_type": "code",
   "execution_count": 8,
   "metadata": {},
   "outputs": [
    {
     "data": {
      "text/plain": [
       "array(['RAP', 'VOCAL', 'METAL', 'HARDROCK', 'POP', 'BLUES', 'DUBSTEP',\n",
       "       'ELECTRONICS', 'ROCK', 'TECHNO', 'DISCO', 'KPOP', 'PODCASTS',\n",
       "       'DANCE', 'HOUSE', 'INDUSTRIAL', 'RNB', 'JAZZ', 'CLASSICAL',\n",
       "       'RELAX', 'POSTROCK', 'PUNK'], dtype=object)"
      ]
     },
     "execution_count": 8,
     "metadata": {},
     "output_type": "execute_result"
    }
   ],
   "source": [
    "log = pd.read_csv('C:\\\\Users\\\\User\\\\Desktop\\\\_ex\\\\music_data.csv')\n",
    "log.track_genre.unique()"
   ]
  },
  {
   "cell_type": "code",
   "execution_count": 9,
   "metadata": {
    "scrolled": false
   },
   "outputs": [
    {
     "data": {
      "text/html": [
       "<div>\n",
       "<style scoped>\n",
       "    .dataframe tbody tr th:only-of-type {\n",
       "        vertical-align: middle;\n",
       "    }\n",
       "\n",
       "    .dataframe tbody tr th {\n",
       "        vertical-align: top;\n",
       "    }\n",
       "\n",
       "    .dataframe thead th {\n",
       "        text-align: right;\n",
       "    }\n",
       "</style>\n",
       "<table border=\"1\" class=\"dataframe\">\n",
       "  <thead>\n",
       "    <tr style=\"text-align: right;\">\n",
       "      <th></th>\n",
       "      <th>Unnamed: 0</th>\n",
       "      <th>audition_id</th>\n",
       "      <th>track_duration</th>\n",
       "      <th>track_genre</th>\n",
       "      <th>track_id</th>\n",
       "      <th>user_id</th>\n",
       "      <th>utc_audition_end_dttm</th>\n",
       "      <th>utc_audition_start_dttm</th>\n",
       "    </tr>\n",
       "  </thead>\n",
       "  <tbody>\n",
       "    <tr>\n",
       "      <th>14</th>\n",
       "      <td>14</td>\n",
       "      <td>15f71f1a15d24b4b9bb87af31d665388</td>\n",
       "      <td>493.026686</td>\n",
       "      <td>TECHNO</td>\n",
       "      <td>81a3212c-4758-432d-9081-693e09e4e3fb</td>\n",
       "      <td>20d9fc62bebb4f3c99b1</td>\n",
       "      <td>2021-02-25T03:45:13.303000Z</td>\n",
       "      <td>2021-02-25T03:43:40.918000Z</td>\n",
       "    </tr>\n",
       "    <tr>\n",
       "      <th>16</th>\n",
       "      <td>16</td>\n",
       "      <td>41b523da685241ea91db0e279653a8bc</td>\n",
       "      <td>488.283698</td>\n",
       "      <td>TECHNO</td>\n",
       "      <td>a0993e54-88ae-49d6-9684-1f79876b7cc2</td>\n",
       "      <td>e8b5db9db6de4c758303</td>\n",
       "      <td>2021-02-02T01:41:47.014000Z</td>\n",
       "      <td>2021-02-02T01:33:27.298000Z</td>\n",
       "    </tr>\n",
       "    <tr>\n",
       "      <th>18</th>\n",
       "      <td>18</td>\n",
       "      <td>b4cecb3196ac428c999d79a2deff39b1</td>\n",
       "      <td>467.418433</td>\n",
       "      <td>TECHNO</td>\n",
       "      <td>e9262a39-b857-4042-ab3a-7457401f1c9c</td>\n",
       "      <td>d8b0e8c218184184ad86</td>\n",
       "      <td>2021-01-18T01:57:56.465000Z</td>\n",
       "      <td>2021-01-18T01:52:04.594000Z</td>\n",
       "    </tr>\n",
       "    <tr>\n",
       "      <th>23</th>\n",
       "      <td>23</td>\n",
       "      <td>616dcec1f6c7460faa7e98be8854e2fd</td>\n",
       "      <td>467.629745</td>\n",
       "      <td>TECHNO</td>\n",
       "      <td>da998e82-90fa-49af-b108-354841dfc01f</td>\n",
       "      <td>bc44aaf2a590402684b7</td>\n",
       "      <td>2021-02-03T03:37:12.141000Z</td>\n",
       "      <td>2021-02-03T03:35:54.534000Z</td>\n",
       "    </tr>\n",
       "    <tr>\n",
       "      <th>26</th>\n",
       "      <td>26</td>\n",
       "      <td>5e10aef6acef4201b3f3d8acdcd5c8ef</td>\n",
       "      <td>443.071996</td>\n",
       "      <td>TECHNO</td>\n",
       "      <td>139ed40d-60b9-437b-9e4d-f44236e22aaa</td>\n",
       "      <td>88406b284c544698b48c</td>\n",
       "      <td>2021-02-10T11:44:57.103000Z</td>\n",
       "      <td>2021-02-10T11:38:45.440000Z</td>\n",
       "    </tr>\n",
       "    <tr>\n",
       "      <th>...</th>\n",
       "      <td>...</td>\n",
       "      <td>...</td>\n",
       "      <td>...</td>\n",
       "      <td>...</td>\n",
       "      <td>...</td>\n",
       "      <td>...</td>\n",
       "      <td>...</td>\n",
       "      <td>...</td>\n",
       "    </tr>\n",
       "    <tr>\n",
       "      <th>842171</th>\n",
       "      <td>842171</td>\n",
       "      <td>21f03ad9a1b14d93892d448abb7fb906</td>\n",
       "      <td>492.855825</td>\n",
       "      <td>TECHNO</td>\n",
       "      <td>86fffe2d-3800-4e1b-a6d2-1635d354adf5</td>\n",
       "      <td>28cbeeb777da47f6bc22</td>\n",
       "      <td>2021-02-04T20:41:22.045000Z</td>\n",
       "      <td>2021-02-04T20:34:37.708000Z</td>\n",
       "    </tr>\n",
       "    <tr>\n",
       "      <th>842280</th>\n",
       "      <td>842280</td>\n",
       "      <td>b27a258f2c3d4c68b05c737890bad2d9</td>\n",
       "      <td>463.598967</td>\n",
       "      <td>TECHNO</td>\n",
       "      <td>5f3bc289-8154-41c3-8f9a-2eef7e0c0590</td>\n",
       "      <td>1e93bcd99f454e6d9a7c</td>\n",
       "      <td>2021-02-17T13:35:10.497000Z</td>\n",
       "      <td>2021-02-17T13:33:24.262000Z</td>\n",
       "    </tr>\n",
       "    <tr>\n",
       "      <th>842315</th>\n",
       "      <td>842315</td>\n",
       "      <td>9ceecfb1eb73410ba633e57011312f1e</td>\n",
       "      <td>439.056090</td>\n",
       "      <td>TECHNO</td>\n",
       "      <td>c4b21992-988b-4d58-8d13-18e07f5b6723</td>\n",
       "      <td>ed8d8a43ed814e61a3b8</td>\n",
       "      <td>2021-02-27T23:59:39.050000Z</td>\n",
       "      <td>2021-02-27T23:58:43.460000Z</td>\n",
       "    </tr>\n",
       "    <tr>\n",
       "      <th>842364</th>\n",
       "      <td>842364</td>\n",
       "      <td>644326ab496c4afeb6a74875e452123b</td>\n",
       "      <td>467.671508</td>\n",
       "      <td>TECHNO</td>\n",
       "      <td>5c32fa67-5c38-484d-acd3-686c11acbd93</td>\n",
       "      <td>b9a61b29d9184a1384ad</td>\n",
       "      <td>2021-01-22T02:47:35.544000Z</td>\n",
       "      <td>2021-01-22T02:40:45.948000Z</td>\n",
       "    </tr>\n",
       "    <tr>\n",
       "      <th>842379</th>\n",
       "      <td>842379</td>\n",
       "      <td>1f5f5ab894c5421a882887a6c4cae4a8</td>\n",
       "      <td>439.414920</td>\n",
       "      <td>TECHNO</td>\n",
       "      <td>5afa7405-1082-456c-814a-1f8b3bf01f95</td>\n",
       "      <td>98334b2fc33842409706</td>\n",
       "      <td>2021-01-28T20:19:31.529000Z</td>\n",
       "      <td>2021-01-28T20:17:50.586000Z</td>\n",
       "    </tr>\n",
       "  </tbody>\n",
       "</table>\n",
       "<p>59482 rows × 8 columns</p>\n",
       "</div>"
      ],
      "text/plain": [
       "        Unnamed: 0                       audition_id  track_duration  \\\n",
       "14              14  15f71f1a15d24b4b9bb87af31d665388      493.026686   \n",
       "16              16  41b523da685241ea91db0e279653a8bc      488.283698   \n",
       "18              18  b4cecb3196ac428c999d79a2deff39b1      467.418433   \n",
       "23              23  616dcec1f6c7460faa7e98be8854e2fd      467.629745   \n",
       "26              26  5e10aef6acef4201b3f3d8acdcd5c8ef      443.071996   \n",
       "...            ...                               ...             ...   \n",
       "842171      842171  21f03ad9a1b14d93892d448abb7fb906      492.855825   \n",
       "842280      842280  b27a258f2c3d4c68b05c737890bad2d9      463.598967   \n",
       "842315      842315  9ceecfb1eb73410ba633e57011312f1e      439.056090   \n",
       "842364      842364  644326ab496c4afeb6a74875e452123b      467.671508   \n",
       "842379      842379  1f5f5ab894c5421a882887a6c4cae4a8      439.414920   \n",
       "\n",
       "       track_genre                              track_id  \\\n",
       "14          TECHNO  81a3212c-4758-432d-9081-693e09e4e3fb   \n",
       "16          TECHNO  a0993e54-88ae-49d6-9684-1f79876b7cc2   \n",
       "18          TECHNO  e9262a39-b857-4042-ab3a-7457401f1c9c   \n",
       "23          TECHNO  da998e82-90fa-49af-b108-354841dfc01f   \n",
       "26          TECHNO  139ed40d-60b9-437b-9e4d-f44236e22aaa   \n",
       "...            ...                                   ...   \n",
       "842171      TECHNO  86fffe2d-3800-4e1b-a6d2-1635d354adf5   \n",
       "842280      TECHNO  5f3bc289-8154-41c3-8f9a-2eef7e0c0590   \n",
       "842315      TECHNO  c4b21992-988b-4d58-8d13-18e07f5b6723   \n",
       "842364      TECHNO  5c32fa67-5c38-484d-acd3-686c11acbd93   \n",
       "842379      TECHNO  5afa7405-1082-456c-814a-1f8b3bf01f95   \n",
       "\n",
       "                     user_id        utc_audition_end_dttm  \\\n",
       "14      20d9fc62bebb4f3c99b1  2021-02-25T03:45:13.303000Z   \n",
       "16      e8b5db9db6de4c758303  2021-02-02T01:41:47.014000Z   \n",
       "18      d8b0e8c218184184ad86  2021-01-18T01:57:56.465000Z   \n",
       "23      bc44aaf2a590402684b7  2021-02-03T03:37:12.141000Z   \n",
       "26      88406b284c544698b48c  2021-02-10T11:44:57.103000Z   \n",
       "...                      ...                          ...   \n",
       "842171  28cbeeb777da47f6bc22  2021-02-04T20:41:22.045000Z   \n",
       "842280  1e93bcd99f454e6d9a7c  2021-02-17T13:35:10.497000Z   \n",
       "842315  ed8d8a43ed814e61a3b8  2021-02-27T23:59:39.050000Z   \n",
       "842364  b9a61b29d9184a1384ad  2021-01-22T02:47:35.544000Z   \n",
       "842379  98334b2fc33842409706  2021-01-28T20:19:31.529000Z   \n",
       "\n",
       "            utc_audition_start_dttm  \n",
       "14      2021-02-25T03:43:40.918000Z  \n",
       "16      2021-02-02T01:33:27.298000Z  \n",
       "18      2021-01-18T01:52:04.594000Z  \n",
       "23      2021-02-03T03:35:54.534000Z  \n",
       "26      2021-02-10T11:38:45.440000Z  \n",
       "...                             ...  \n",
       "842171  2021-02-04T20:34:37.708000Z  \n",
       "842280  2021-02-17T13:33:24.262000Z  \n",
       "842315  2021-02-27T23:58:43.460000Z  \n",
       "842364  2021-01-22T02:40:45.948000Z  \n",
       "842379  2021-01-28T20:17:50.586000Z  \n",
       "\n",
       "[59482 rows x 8 columns]"
      ]
     },
     "execution_count": 9,
     "metadata": {},
     "output_type": "execute_result"
    }
   ],
   "source": [
    "log[log.track_genre == 'TECHNO']"
   ]
  },
  {
   "cell_type": "code",
   "execution_count": 11,
   "metadata": {},
   "outputs": [
    {
     "data": {
      "text/plain": [
       "1727"
      ]
     },
     "execution_count": 11,
     "metadata": {},
     "output_type": "execute_result"
    }
   ],
   "source": [
    "len(log[log.track_genre == 'TECHNO'].user_id.unique())"
   ]
  },
  {
   "cell_type": "code",
   "execution_count": 21,
   "metadata": {},
   "outputs": [
    {
     "name": "stdout",
     "output_type": "stream",
     "text": [
      "<class 'pandas.core.frame.DataFrame'>\n",
      "RangeIndex: 842397 entries, 0 to 842396\n",
      "Data columns (total 8 columns):\n",
      " #   Column                   Non-Null Count   Dtype  \n",
      "---  ------                   --------------   -----  \n",
      " 0   Unnamed: 0               842397 non-null  int64  \n",
      " 1   audition_id              842397 non-null  object \n",
      " 2   track_duration           842397 non-null  float64\n",
      " 3   track_genre              842397 non-null  object \n",
      " 4   track_id                 842397 non-null  object \n",
      " 5   user_id                  842397 non-null  object \n",
      " 6   utc_audition_end_dttm    842397 non-null  object \n",
      " 7   utc_audition_start_dttm  842397 non-null  object \n",
      "dtypes: float64(1), int64(1), object(6)\n",
      "memory usage: 51.4+ MB\n"
     ]
    }
   ],
   "source": [
    "log.info()"
   ]
  },
  {
   "cell_type": "code",
   "execution_count": 17,
   "metadata": {},
   "outputs": [
    {
     "data": {
      "text/plain": [
       "0        2021-02-28 12:32:10.776\n",
       "1        2021-01-19 12:13:43.369\n",
       "2        2021-02-27 19:53:57.143\n",
       "3        2021-02-24 01:51:44.526\n",
       "4        2020-12-24 05:04:32.855\n",
       "                   ...          \n",
       "842392   2021-02-05 09:17:07.865\n",
       "842393   2021-02-20 13:31:47.351\n",
       "842394   2021-02-26 17:00:06.380\n",
       "842395   2021-02-25 06:57:20.404\n",
       "842396   2021-02-26 04:49:59.839\n",
       "Name: utc_audition_end_dttm, Length: 842397, dtype: datetime64[ns]"
      ]
     },
     "execution_count": 17,
     "metadata": {},
     "output_type": "execute_result"
    }
   ],
   "source": [
    "log.utc_audition_end_dttm.astype('datetime64')"
   ]
  },
  {
   "cell_type": "code",
   "execution_count": 23,
   "metadata": {},
   "outputs": [],
   "source": [
    "log['len'] = log.utc_audition_end_dttm.astype('datetime64') - log.utc_audition_start_dttm.astype('datetime64')"
   ]
  },
  {
   "cell_type": "code",
   "execution_count": 25,
   "metadata": {},
   "outputs": [],
   "source": [
    "log['len'] = log['len'].dt.seconds"
   ]
  },
  {
   "cell_type": "code",
   "execution_count": 109,
   "metadata": {},
   "outputs": [],
   "source": [
    "log_min = log[['track_duration', 'track_genre', 'user_id', 'len']]"
   ]
  },
  {
   "cell_type": "code",
   "execution_count": 110,
   "metadata": {},
   "outputs": [
    {
     "data": {
      "text/html": [
       "<div>\n",
       "<style scoped>\n",
       "    .dataframe tbody tr th:only-of-type {\n",
       "        vertical-align: middle;\n",
       "    }\n",
       "\n",
       "    .dataframe tbody tr th {\n",
       "        vertical-align: top;\n",
       "    }\n",
       "\n",
       "    .dataframe thead th {\n",
       "        text-align: right;\n",
       "    }\n",
       "</style>\n",
       "<table border=\"1\" class=\"dataframe\">\n",
       "  <thead>\n",
       "    <tr style=\"text-align: right;\">\n",
       "      <th></th>\n",
       "      <th>track_duration</th>\n",
       "      <th>track_genre</th>\n",
       "      <th>user_id</th>\n",
       "      <th>len</th>\n",
       "    </tr>\n",
       "  </thead>\n",
       "  <tbody>\n",
       "    <tr>\n",
       "      <th>0</th>\n",
       "      <td>336.629082</td>\n",
       "      <td>RAP</td>\n",
       "      <td>a72d73ea124840698aa8</td>\n",
       "      <td>68</td>\n",
       "    </tr>\n",
       "    <tr>\n",
       "      <th>1</th>\n",
       "      <td>428.797846</td>\n",
       "      <td>VOCAL</td>\n",
       "      <td>066cc9287de340f281ba</td>\n",
       "      <td>55</td>\n",
       "    </tr>\n",
       "    <tr>\n",
       "      <th>2</th>\n",
       "      <td>463.467143</td>\n",
       "      <td>METAL</td>\n",
       "      <td>95ed23b52b104f66b4b1</td>\n",
       "      <td>74</td>\n",
       "    </tr>\n",
       "    <tr>\n",
       "      <th>3</th>\n",
       "      <td>323.746259</td>\n",
       "      <td>HARDROCK</td>\n",
       "      <td>b0a6dcec6f604b50b37e</td>\n",
       "      <td>318</td>\n",
       "    </tr>\n",
       "    <tr>\n",
       "      <th>4</th>\n",
       "      <td>316.888403</td>\n",
       "      <td>POP</td>\n",
       "      <td>6788b1c78a724de488c9</td>\n",
       "      <td>263</td>\n",
       "    </tr>\n",
       "    <tr>\n",
       "      <th>...</th>\n",
       "      <td>...</td>\n",
       "      <td>...</td>\n",
       "      <td>...</td>\n",
       "      <td>...</td>\n",
       "    </tr>\n",
       "    <tr>\n",
       "      <th>842392</th>\n",
       "      <td>360.581998</td>\n",
       "      <td>POP</td>\n",
       "      <td>e5e46188fe6d41f89faf</td>\n",
       "      <td>333</td>\n",
       "    </tr>\n",
       "    <tr>\n",
       "      <th>842393</th>\n",
       "      <td>373.243783</td>\n",
       "      <td>RAP</td>\n",
       "      <td>f437ddab36c74c67a42d</td>\n",
       "      <td>45</td>\n",
       "    </tr>\n",
       "    <tr>\n",
       "      <th>842394</th>\n",
       "      <td>574.092229</td>\n",
       "      <td>BLUES</td>\n",
       "      <td>6d1fe5c707a7482a82e6</td>\n",
       "      <td>319</td>\n",
       "    </tr>\n",
       "    <tr>\n",
       "      <th>842395</th>\n",
       "      <td>370.237483</td>\n",
       "      <td>POP</td>\n",
       "      <td>7cb9103d77eb4a899c19</td>\n",
       "      <td>310</td>\n",
       "    </tr>\n",
       "    <tr>\n",
       "      <th>842396</th>\n",
       "      <td>519.360214</td>\n",
       "      <td>DUBSTEP</td>\n",
       "      <td>9830d91152d547c6b8fc</td>\n",
       "      <td>499</td>\n",
       "    </tr>\n",
       "  </tbody>\n",
       "</table>\n",
       "<p>842397 rows × 4 columns</p>\n",
       "</div>"
      ],
      "text/plain": [
       "        track_duration track_genre               user_id  len\n",
       "0           336.629082         RAP  a72d73ea124840698aa8   68\n",
       "1           428.797846       VOCAL  066cc9287de340f281ba   55\n",
       "2           463.467143       METAL  95ed23b52b104f66b4b1   74\n",
       "3           323.746259    HARDROCK  b0a6dcec6f604b50b37e  318\n",
       "4           316.888403         POP  6788b1c78a724de488c9  263\n",
       "...                ...         ...                   ...  ...\n",
       "842392      360.581998         POP  e5e46188fe6d41f89faf  333\n",
       "842393      373.243783         RAP  f437ddab36c74c67a42d   45\n",
       "842394      574.092229       BLUES  6d1fe5c707a7482a82e6  319\n",
       "842395      370.237483         POP  7cb9103d77eb4a899c19  310\n",
       "842396      519.360214     DUBSTEP  9830d91152d547c6b8fc  499\n",
       "\n",
       "[842397 rows x 4 columns]"
      ]
     },
     "execution_count": 110,
     "metadata": {},
     "output_type": "execute_result"
    }
   ],
   "source": [
    "log_min"
   ]
  },
  {
   "cell_type": "code",
   "execution_count": 111,
   "metadata": {},
   "outputs": [
    {
     "data": {
      "text/plain": [
       "1727"
      ]
     },
     "execution_count": 111,
     "metadata": {},
     "output_type": "execute_result"
    }
   ],
   "source": [
    "len(log[log_min.track_genre == 'TECHNO'].user_id.unique())"
   ]
  },
  {
   "cell_type": "code",
   "execution_count": 117,
   "metadata": {},
   "outputs": [
    {
     "data": {
      "text/html": [
       "<div>\n",
       "<style scoped>\n",
       "    .dataframe tbody tr th:only-of-type {\n",
       "        vertical-align: middle;\n",
       "    }\n",
       "\n",
       "    .dataframe tbody tr th {\n",
       "        vertical-align: top;\n",
       "    }\n",
       "\n",
       "    .dataframe thead th {\n",
       "        text-align: right;\n",
       "    }\n",
       "</style>\n",
       "<table border=\"1\" class=\"dataframe\">\n",
       "  <thead>\n",
       "    <tr style=\"text-align: right;\">\n",
       "      <th></th>\n",
       "      <th>track_duration</th>\n",
       "      <th>len</th>\n",
       "    </tr>\n",
       "    <tr>\n",
       "      <th>user_id</th>\n",
       "      <th></th>\n",
       "      <th></th>\n",
       "    </tr>\n",
       "  </thead>\n",
       "  <tbody>\n",
       "    <tr>\n",
       "      <th>002123faf66b47b5aafa</th>\n",
       "      <td>10698.536600</td>\n",
       "      <td>6387</td>\n",
       "    </tr>\n",
       "    <tr>\n",
       "      <th>0041383820e248e487a6</th>\n",
       "      <td>36099.608820</td>\n",
       "      <td>21973</td>\n",
       "    </tr>\n",
       "    <tr>\n",
       "      <th>008005a451764a63aa3f</th>\n",
       "      <td>20170.234539</td>\n",
       "      <td>12579</td>\n",
       "    </tr>\n",
       "    <tr>\n",
       "      <th>00c017dc34254d39a390</th>\n",
       "      <td>24052.191696</td>\n",
       "      <td>17255</td>\n",
       "    </tr>\n",
       "    <tr>\n",
       "      <th>00f628a2f8044ae18d88</th>\n",
       "      <td>16576.126407</td>\n",
       "      <td>11235</td>\n",
       "    </tr>\n",
       "    <tr>\n",
       "      <th>...</th>\n",
       "      <td>...</td>\n",
       "      <td>...</td>\n",
       "    </tr>\n",
       "    <tr>\n",
       "      <th>ff77d34a23c04d36a421</th>\n",
       "      <td>15571.816505</td>\n",
       "      <td>9808</td>\n",
       "    </tr>\n",
       "    <tr>\n",
       "      <th>ff9b606118d449f1ab15</th>\n",
       "      <td>13744.834710</td>\n",
       "      <td>8154</td>\n",
       "    </tr>\n",
       "    <tr>\n",
       "      <th>ffa2421c514844c087f3</th>\n",
       "      <td>14539.614344</td>\n",
       "      <td>8784</td>\n",
       "    </tr>\n",
       "    <tr>\n",
       "      <th>ffa5ecacdcfb466d8e91</th>\n",
       "      <td>18477.646118</td>\n",
       "      <td>11673</td>\n",
       "    </tr>\n",
       "    <tr>\n",
       "      <th>ffe8e02a691746d18159</th>\n",
       "      <td>12052.290005</td>\n",
       "      <td>8979</td>\n",
       "    </tr>\n",
       "  </tbody>\n",
       "</table>\n",
       "<p>1727 rows × 2 columns</p>\n",
       "</div>"
      ],
      "text/plain": [
       "                      track_duration    len\n",
       "user_id                                    \n",
       "002123faf66b47b5aafa    10698.536600   6387\n",
       "0041383820e248e487a6    36099.608820  21973\n",
       "008005a451764a63aa3f    20170.234539  12579\n",
       "00c017dc34254d39a390    24052.191696  17255\n",
       "00f628a2f8044ae18d88    16576.126407  11235\n",
       "...                              ...    ...\n",
       "ff77d34a23c04d36a421    15571.816505   9808\n",
       "ff9b606118d449f1ab15    13744.834710   8154\n",
       "ffa2421c514844c087f3    14539.614344   8784\n",
       "ffa5ecacdcfb466d8e91    18477.646118  11673\n",
       "ffe8e02a691746d18159    12052.290005   8979\n",
       "\n",
       "[1727 rows x 2 columns]"
      ]
     },
     "execution_count": 117,
     "metadata": {},
     "output_type": "execute_result"
    }
   ],
   "source": [
    "log_min[log_min.track_genre == 'TECHNO'].groupby(log_min.user_id).sum()"
   ]
  },
  {
   "cell_type": "code",
   "execution_count": 126,
   "metadata": {},
   "outputs": [],
   "source": [
    "log_min_sort = log_min[log_min.track_genre == 'TECHNO'].groupby(log_min.user_id).sum().sort_values(by=['len'], ascending=False)"
   ]
  },
  {
   "cell_type": "code",
   "execution_count": 131,
   "metadata": {},
   "outputs": [
    {
     "data": {
      "text/plain": [
       "'2021-03-01T17:06:21.205000Z'"
      ]
     },
     "execution_count": 131,
     "metadata": {},
     "output_type": "execute_result"
    }
   ],
   "source": [
    "log.utc_audition_end_dttm.max()"
   ]
  },
  {
   "cell_type": "code",
   "execution_count": 129,
   "metadata": {},
   "outputs": [
    {
     "data": {
      "text/plain": [
       "10574.538506079907"
      ]
     },
     "execution_count": 129,
     "metadata": {},
     "output_type": "execute_result"
    }
   ],
   "source": [
    "log_min_sort.len.mean()"
   ]
  },
  {
   "cell_type": "code",
   "execution_count": 138,
   "metadata": {},
   "outputs": [
    {
     "data": {
      "text/plain": [
       "Index(['43c91473008345efa8b0', '1ac8ca9850b74c02a883', 'f6b7c2e30703489ca442',\n",
       "       '8232810d6053485db42b', '77517606561d48058f22', '0041383820e248e487a6',\n",
       "       'bb95909c8ae54bec92ca', 'bd91cc9a98fc497abae5', 'abf137da2add4425aad4',\n",
       "       '34a0b3746c624e5ba3ca',\n",
       "       ...\n",
       "       'a8125b7d82bf4a39b6c6', 'b34b034fcd924f9c8b5c', 'a209acc7ea1840a1b6e2',\n",
       "       'e0df5999dfa345b8a032', '11ba8613d307450d99d9', '8eb5ee0225a74f8e8073',\n",
       "       '1430742b4db2406d99a0', 'f9acd26034dd41e4ac24', '1828b1036eaf4e64841a',\n",
       "       '52954001ebf6474586ba'],\n",
       "      dtype='object', name='user_id', length=1727)"
      ]
     },
     "execution_count": 138,
     "metadata": {},
     "output_type": "execute_result"
    }
   ],
   "source": [
    "# id для рассылки по категории - слушающие техно\n",
    "log_min_sort.index"
   ]
  },
  {
   "cell_type": "markdown",
   "metadata": {},
   "source": [
    "# pass"
   ]
  },
  {
   "cell_type": "code",
   "execution_count": 102,
   "metadata": {},
   "outputs": [],
   "source": [
    "import re\n",
    "\n",
    "def pas_check(pas):\n",
    "    flags_dict = {'ok':'good',\n",
    "                  'bad_len':'bad - at least 7 chars needed',\n",
    "                  'bad_latin': 'bad - only numbers and latin letters permited',\n",
    "                  'bad_num': 'bad - at least 1 number needed',\n",
    "                  'bad_upper': 'bad - at least 1 upper-case letter needed',\n",
    "                  'bad_lower': 'bad - at least 1 lower-case letter needed',\n",
    "                  }\n",
    "    flag = flags_dict['ok']\n",
    "    if len(list(pas)) < 7: flag = flags_dict['bad_len']\n",
    "    elif bool(re.match(\"[A-Za-z0-9]+$\", pas)) == False: flag = flags_dict['bad_latin']\n",
    "    elif bool(re.search(\"[0-9]\", pas)) == False: flag = flags_dict['bad_num']\n",
    "    elif bool(re.search(\"[A-Z]\", pas)) == False: flag = flags_dict['bad_upper'] \n",
    "    elif bool(re.search(\"[a-z]\", pas)) == False: flag = flags_dict['bad_lower']\n",
    "        \n",
    "    return print(flag)"
   ]
  },
  {
   "cell_type": "code",
   "execution_count": 105,
   "metadata": {},
   "outputs": [
    {
     "name": "stdout",
     "output_type": "stream",
     "text": [
      "good\n"
     ]
    }
   ],
   "source": [
    "pas = '12sdfadfgF'\n",
    "pas_check(pas)"
   ]
  },
  {
   "cell_type": "markdown",
   "metadata": {},
   "source": [
    "# strartask"
   ]
  },
  {
   "cell_type": "code",
   "execution_count": 145,
   "metadata": {},
   "outputs": [
    {
     "name": "stdout",
     "output_type": "stream",
     "text": [
      "Populating the interactive namespace from numpy and matplotlib\n"
     ]
    }
   ],
   "source": [
    "%pylab inline"
   ]
  },
  {
   "cell_type": "code",
   "execution_count": 183,
   "metadata": {},
   "outputs": [
    {
     "data": {
      "text/plain": [
       "[<matplotlib.lines.Line2D at 0x1fdf90aba48>]"
      ]
     },
     "execution_count": 183,
     "metadata": {},
     "output_type": "execute_result"
    },
    {
     "data": {
      "text/plain": [
       "<Figure size 576x576 with 0 Axes>"
      ]
     },
     "metadata": {},
     "output_type": "display_data"
    },
    {
     "data": {
      "image/png": "[encoded data removed]",
      "text/plain": [
       "<Figure size 576x576 with 1 Axes>"
      ]
     },
     "metadata": {
      "needs_background": "light"
     },
     "output_type": "display_data"
    }
   ],
   "source": [
    "pylab.figure(figsize(8, 8))\n",
    "from matplotlib import pyplot\n",
    "from math import sin,cos,pi\n",
    "figure, axes = pyplot.subplots()\n",
    "axes.plot([sin(2*i*(2*pi/5)) for i in range(10)],\n",
    "          [cos(2*i*(2*pi/5)) for i in range(10)])"
   ]
  },
  {
   "cell_type": "code",
   "execution_count": 180,
   "metadata": {},
   "outputs": [
    {
     "data": {
      "text/plain": [
       "[10, 9, 8, 7, 6, 5, 4, 3, 2, 1]"
      ]
     },
     "execution_count": 180,
     "metadata": {},
     "output_type": "execute_result"
    }
   ],
   "source": [
    "[i for i in range(10,0,-1)]"
   ]
  },
  {
   "cell_type": "markdown",
   "metadata": {},
   "source": [
    "# strartask for luck"
   ]
  },
  {
   "cell_type": "code",
   "execution_count": 1,
   "metadata": {},
   "outputs": [],
   "source": [
    "import turtle\n",
    "def draw_star(size, color):\n",
    "    angle = 120\n",
    "    turtle.fillcolor(color)\n",
    "    turtle.begin_fill()\n",
    "\n",
    "    for side in range(5):\n",
    "        turtle.forward(size)\n",
    "        turtle.right(angle)\n",
    "        turtle.forward(size)\n",
    "        turtle.right(72 - angle)\n",
    "    turtle.end_fill()\n",
    "    return\n",
    "\n",
    "draw_star(100, \"red\")"
   ]
  }
 ],
 "metadata": {
  "kernelspec": {
   "display_name": "Python 3",
   "language": "python",
   "name": "python3"
  },
  "language_info": {
   "codemirror_mode": {
    "name": "ipython",
    "version": 3
   },
   "file_extension": ".py",
   "mimetype": "text/x-python",
   "name": "python",
   "nbconvert_exporter": "python",
   "pygments_lexer": "ipython3",
   "version": "3.7.6"
  }
 },
 "nbformat": 4,
 "nbformat_minor": 4
}
